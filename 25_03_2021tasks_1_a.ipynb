{
  "nbformat": 4,
  "nbformat_minor": 0,
  "metadata": {
    "colab": {
      "name": "25-03-2021tasks-1-a.ipynb",
      "provenance": [],
      "collapsed_sections": [],
      "authorship_tag": "ABX9TyOLeFYbeMSS/o/cjFwJiRlz",
      "include_colab_link": true
    },
    "kernelspec": {
      "name": "python3",
      "display_name": "Python 3"
    },
    "language_info": {
      "name": "python"
    }
  },
  "cells": [
    {
      "cell_type": "markdown",
      "metadata": {
        "id": "view-in-github",
        "colab_type": "text"
      },
      "source": [
        "<a href=\"https://colab.research.google.com/github/mohamedtal/PFE2021/blob/main/25_03_2021tasks_1_a.ipynb\" target=\"_parent\"><img src=\"https://colab.research.google.com/assets/colab-badge.svg\" alt=\"Open In Colab\"/></a>"
      ]
    },
    {
      "cell_type": "code",
      "metadata": {
        "id": "4pukCqRThuYV"
      },
      "source": [
        "import cv2\n",
        "import numpy as np\n",
        "import os\n",
        "import random"
      ],
      "execution_count": 15,
      "outputs": []
    },
    {
      "cell_type": "code",
      "metadata": {
        "colab": {
          "base_uri": "https://localhost:8080/"
        },
        "id": "Iu3j6LSaPwJw",
        "outputId": "949c4cf2-c0ad-4c70-de31-62b202679961"
      },
      "source": [
        "# before all don't forget to use the GPU\n",
        "\n",
        "# at first we need to get the dataset from the drive \n",
        "# pfe2021.1@gmail.com\t\tzakimoha123\n",
        "from google.colab import drive\n",
        "drive.mount(\"/content/drive\", force_remount=True)"
      ],
      "execution_count": 1,
      "outputs": [
        {
          "output_type": "stream",
          "text": [
            "Mounted at /content/drive\n"
          ],
          "name": "stdout"
        }
      ]
    },
    {
      "cell_type": "code",
      "metadata": {
        "id": "RWFnpMp1Q5mg"
      },
      "source": [
        "#unzip the dataset\n",
        "\n",
        "# for the train\n",
        "!unzip /content/drive/MyDrive/dataset/DR-dataset2015.zip"
      ],
      "execution_count": null,
      "outputs": []
    },
    {
      "cell_type": "code",
      "metadata": {
        "id": "NoZk7TvtbYsl"
      },
      "source": [
        "# creating the batches folder\n",
        "path_batch = 'batches'\n",
        "try:\n",
        "    os.mkdir(path_batch)\n",
        "except OSError:\n",
        "    print (\"Creation of the directory %s failed\" % path_batch)\n",
        "else:\n",
        "    print (\"Successfully created the directory %s \" % path_batch)\n",
        "finally:\n",
        "    for i in range(1,17):\n",
        "      try:\n",
        "          os.mkdir(path_batch+'/'+str(i))\n",
        "      except OSError:\n",
        "          print (\"Creation of the directory %s failed\" % path_batch)"
      ],
      "execution_count": null,
      "outputs": []
    },
    {
      "cell_type": "code",
      "metadata": {
        "id": "QcMTUGD-eIk2"
      },
      "source": [
        "#read images, do division, save results batches\n",
        "path = 'DR-dataset/train/'\n",
        "numberImagesPerClass = 300\n",
        "size_batch = 255\n",
        "sizeOfOriginalImage = 1024\n",
        "numberOfClass = 5\n",
        "\n",
        "\n",
        "numberOfBatch = sizeOfOriginalImage // size_batch\n",
        "for i in range(numberOfClass):\n",
        "  # the path of each class\n",
        "  path_class = path + str(i)\n",
        "  # get the list of images in each class\n",
        "  list_images =  os.listdir(path_class)\n",
        "  # choose randomly 300 images from the previous list\n",
        "  choosed_images = random.sample(list_images, numberImagesPerClass)\n",
        "  for image in choosed_images:\n",
        "    # get the path of each image\n",
        "    path_image = path_class+'/'+image\n",
        "    # read the image\n",
        "    img = cv2.imread(path_image)\n",
        "    img = cv2.resize(img, dsize=(sizeOfOriginalImage, sizeOfOriginalImage))\n",
        "    numeroBatch = 1\n",
        "    for i in range(numberOfBatch):\n",
        "      for j in range(numberOfBatch):\n",
        "        batch = img[i*size_batch:i*size_batch+size_batch,j*size_batch:j*size_batch+size_batch,:]\n",
        "        try:\n",
        "            newPath = path_batch+'/'+str(numeroBatch)+'/'+image\n",
        "            cv2.imwrite(newPath,batch)\n",
        "        except Exception: \n",
        "            print('error')\n",
        "        numeroBatch = numeroBatch + 1"
      ],
      "execution_count": null,
      "outputs": []
    },
    {
      "cell_type": "code",
      "metadata": {
        "id": "WRCI4T8Ooxg-"
      },
      "source": [
        "# create 16 models using the densenet architecture\n",
        "# at first create the model\n"
      ],
      "execution_count": null,
      "outputs": []
    }
  ]
}