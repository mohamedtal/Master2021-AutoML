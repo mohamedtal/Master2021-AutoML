{
  "nbformat": 4,
  "nbformat_minor": 0,
  "metadata": {
    "colab": {
      "name": "24-02-2021-claheTestInceptionV3.ipynb",
      "provenance": [],
      "collapsed_sections": [],
      "authorship_tag": "ABX9TyOISc+wdMK9f9B8orUN125U",
      "include_colab_link": true
    },
    "kernelspec": {
      "display_name": "Python 3",
      "name": "python3"
    },
    "accelerator": "GPU"
  },
  "cells": [
    {
      "cell_type": "markdown",
      "metadata": {
        "id": "view-in-github",
        "colab_type": "text"
      },
      "source": [
        "<a href=\"https://colab.research.google.com/github/mohamedtal/PFE2021/blob/main/24_02_2021_claheTestInceptionV3.ipynb\" target=\"_parent\"><img src=\"https://colab.research.google.com/assets/colab-badge.svg\" alt=\"Open In Colab\"/></a>"
      ]
    },
    {
      "cell_type": "code",
      "metadata": {
        "id": "baNPHT-Men05"
      },
      "source": [
        "import numpy as np\n",
        "import pandas as pd\n",
        "import matplotlib.pyplot as plt\n",
        "import time as t\n",
        "import cv2\n",
        "import warnings\n",
        "import shutil\n",
        "import os\n",
        "#import keras\n",
        "from keras.utils import to_categorical\n",
        "from keras.models import Sequential\n",
        "from keras import regularizers\n",
        "from keras.layers import Dense, Dropout\n",
        "from matplotlib import pyplot\n",
        "\n",
        "\n",
        "# Sklearn utils.\n",
        "from sklearn.model_selection import train_test_split\n",
        "from sklearn.metrics import confusion_matrix\n",
        "from sklearn.utils import shuffle\n",
        "\n",
        "# Keras.\n",
        "from keras.applications.resnet50 import ResNet50\n",
        "from keras.applications import DenseNet121\n",
        "from keras.utils import Sequence\n",
        "from keras.layers import Dense, Dropout, Flatten, Input, ZeroPadding2D, GlobalAveragePooling2D\n",
        "from keras.models import Sequential\n",
        "from keras.layers import Conv2D, MaxPooling2D\n",
        "from keras.layers.normalization import BatchNormalization\n",
        "from keras import regularizers\n",
        "from keras.models import Model\n",
        "from keras.callbacks import EarlyStopping, ReduceLROnPlateau, ModelCheckpoint\n",
        "from keras import optimizers\n",
        "from keras.utils import to_categorical\n",
        "from keras.preprocessing.image import ImageDataGenerator\n",
        "from keras import backend as K\n",
        "import tensorflow as tf\n",
        "\n",
        "# to generate data augmentation a partir de aptos 2019 preprocessed\n",
        "import imageio\n",
        "import imgaug as ia\n",
        "import imgaug.augmenters as iaa\n",
        "import numpy as np\n",
        "import pandas as pd\n",
        "import matplotlib.pyplot as plt\n",
        "import matplotlib.patches as patches\n",
        "import matplotlib\n",
        "import os\n",
        "import cv2\n",
        "%matplotlib inline"
      ],
      "execution_count": null,
      "outputs": []
    },
    {
      "cell_type": "code",
      "metadata": {
        "colab": {
          "base_uri": "https://localhost:8080/"
        },
        "id": "J43LjEzPBEkk",
        "outputId": "c8e48335-35e2-47bf-82e4-af92a713b687"
      },
      "source": [
        "# before all don't forget to use the GPU\n",
        "\n",
        "# at first we need to get the dataset from the drive \n",
        "# pfe2021.1@gmail.com\t\tzakimoha123\n",
        "from google.colab import drive\n",
        "drive.mount(\"/content/drive\", force_remount=True)"
      ],
      "execution_count": null,
      "outputs": [
        {
          "output_type": "stream",
          "text": [
            "Mounted at /content/drive\n"
          ],
          "name": "stdout"
        }
      ]
    },
    {
      "cell_type": "code",
      "metadata": {
        "id": "WL1HQdpZB7mN"
      },
      "source": [
        "#unzip the dataset\n",
        "\n",
        "# for the train\n",
        "!unzip /content/drive/MyDrive/dataset/DR-dataset2015.zip\n"
      ],
      "execution_count": null,
      "outputs": []
    },
    {
      "cell_type": "code",
      "metadata": {
        "id": "KMv-xH29qi3m"
      },
      "source": [
        "# for the test\n",
        "!unzip /content/drive/MyDrive/dataset/DR-2019-test.zip"
      ],
      "execution_count": null,
      "outputs": []
    },
    {
      "cell_type": "markdown",
      "metadata": {
        "id": "8k1ot8cjek_W"
      },
      "source": [
        "Clahe function"
      ]
    },
    {
      "cell_type": "code",
      "metadata": {
        "id": "TSQEAEv3eiKW"
      },
      "source": [
        "def preprocessFunction(image):\n",
        "    #image = cv2.cvtColor(image,cv2.COLOR_BGR2RGB)\n",
        "    kopya = image.copy()\n",
        "    kopya = cv2.cvtColor(kopya,cv2.COLOR_RGB2GRAY)\n",
        "    blur = cv2.GaussianBlur(kopya,(5,5),0)\n",
        "    thresh = cv2.threshold(blur,10,255,cv2.THRESH_BINARY)[1]\n",
        "    kontur = cv2.findContours(thresh.copy(),cv2.RETR_EXTERNAL,cv2.CHAIN_APPROX_SIMPLE)\n",
        "    kontur = kontur[0][0]\n",
        "    kontur = kontur[:,0,:]\n",
        "    x1 = tuple(kontur[kontur[:,0].argmin()])[0]\n",
        "    x2 = tuple(kontur[kontur[:,0].argmax()])[0]\n",
        "    y1 = tuple(kontur[kontur[:,1].argmin()])[1]\n",
        "    y2 = tuple(kontur[kontur[:,1].argmax()])[1]\n",
        "    x = int(x2-x1)*4//50\n",
        "    y = int(y2-y1)*5//50\n",
        "    kopya2 = image.copy()\n",
        "    if x2-x1>100 and y2-y1>100 :\n",
        "        kopya2 = kopya2[y1+y:y2-y , x1+x:x2-x]\n",
        "        kopya2 = cv2.resize(kopya2,(400,400))\n",
        "    lab = cv2.cvtColor(kopya2,cv2.COLOR_RGB2LAB)\n",
        "    l,a,b = cv2.split(lab)\n",
        "    clahe = cv2.createCLAHE(clipLimit=5.0,tileGridSize=((8,8)))\n",
        "    cl = clahe.apply(l)\n",
        "    limg = cv2.merge((cl,a,b))\n",
        "    son = cv2.cvtColor(limg,cv2.COLOR_LAB2RGB)\n",
        "    med_son = cv2.medianBlur(son,3)\n",
        "    arka_plan = cv2.medianBlur(son,37)\n",
        "    maske = cv2.addWeighted(med_son,1,arka_plan,-1,255)\n",
        "    son_img = cv2.bitwise_and(maske,med_son)\n",
        "    return son_img\n"
      ],
      "execution_count": null,
      "outputs": []
    },
    {
      "cell_type": "code",
      "metadata": {
        "id": "_GTEDUb3CSHy"
      },
      "source": [
        "# we need to delete samples from class 0 ( there is 25000 images, we are going to take just 7000)\n",
        "import random\n",
        "import os\n",
        "BASE_DIR = \"preprocessed/2\"\n",
        "NEW_DIR= \"preprocessed/1\"\n",
        "\n",
        "list_dir =  os.listdir(BASE_DIR)\n",
        "to_val = random.sample(list_dir, len(list_dir))\n",
        "for images in to_val:\n",
        "    os.rename(BASE_DIR + \"/\"+ images, NEW_DIR + \"/\" + images )"
      ],
      "execution_count": null,
      "outputs": []
    },
    {
      "cell_type": "code",
      "metadata": {
        "id": "kP6L6e9P3Ldl"
      },
      "source": [
        "# to create the preprocessed data a partir de aptos 2019\n",
        "\n",
        "import random\n",
        "import os\n",
        "BASE_DIR = \"DR-dataset2019-test/test/4\"\n",
        "NEW_DIR= \"preprocessed/4\"\n",
        "\n",
        "list_dir =  os.listdir(BASE_DIR)\n",
        "\n",
        "for images in list_dir:\n",
        "    image = cv2.imread(BASE_DIR + \"/\"+ images)\n",
        "    image = cv2.resize(image,(400,400))\n",
        "    image = cv2.cvtColor(image,cv2.COLOR_BGR2RGB)\n",
        "    try:\n",
        "        cv2.imwrite(NEW_DIR + \"/\" + images,cv2.cvtColor(preprocessFunction(image),cv2.COLOR_BGR2RGB))\n",
        "    except Exception: \n",
        "        pass\n",
        "    "
      ],
      "execution_count": null,
      "outputs": []
    },
    {
      "cell_type": "code",
      "metadata": {
        "colab": {
          "base_uri": "https://localhost:8080/"
        },
        "id": "ajJUZBFKqov0",
        "outputId": "8255f1e3-aedc-4b79-930d-e3917d08de6f"
      },
      "source": [
        "#!rm -r DR-dataset2019-Preprocessed/3\n",
        "!ls preprocessed/0 | wc -l\n",
        "!ls preprocessed/1 | wc -l\n",
        "!ls preprocessed/2 | wc -l\n",
        "!ls preprocessed/3 | wc -l\n",
        "!ls preprocessed/4 | wc -l"
      ],
      "execution_count": null,
      "outputs": [
        {
          "output_type": "stream",
          "text": [
            "1805\n",
            "1369\n",
            "488\n",
            "ls: cannot access 'preprocessed/3': No such file or directory\n",
            "0\n",
            "ls: cannot access 'preprocessed/4': No such file or directory\n",
            "0\n"
          ],
          "name": "stdout"
        }
      ]
    },
    {
      "cell_type": "code",
      "metadata": {
        "id": "XIdhh1orNntp"
      },
      "source": [
        "BASE_DIR = \"preprocessed/0\"\n",
        "NEW_DIR= \"preprocessed/0\"\n",
        "\n",
        "list_dir =  os.listdir(BASE_DIR)\n",
        "from google.colab.patches import cv2_imshow\n",
        "for images in list_dir:\n",
        "    image = cv2.imread(BASE_DIR + \"/\"+ images)\n",
        "    #image = cv2.cvtColor(image,cv2.COLOR_BGR2RGB)\n",
        "    # rotation\n",
        "    \n",
        "    rotate=iaa.Affine(rotate=(-30, -10))\n",
        "    rotated_image=rotate.augment_image(image)\n",
        "    cv2.imwrite(NEW_DIR + \"/\" + 'rotated-'+images,rotated_image)\n",
        "\n",
        "      #flip H\n",
        "    flip_hr=iaa.Fliplr(p=1.0)\n",
        "    flip_hr_image= flip_hr.augment_image(image)\n",
        "    cv2.imwrite(NEW_DIR + \"/\" + 'fliph-'+images,flip_hr_image)"
      ],
      "execution_count": null,
      "outputs": []
    },
    {
      "cell_type": "code",
      "metadata": {
        "id": "MTznGWYHEDiu"
      },
      "source": [
        "BASE_DIR = \"preprocessed/1\"\n",
        "NEW_DIR= \"preprocessed/1\"\n",
        "\n",
        "list_dir =  os.listdir(BASE_DIR)\n",
        "from google.colab.patches import cv2_imshow\n",
        "for images in list_dir:\n",
        "    image = cv2.imread(BASE_DIR + \"/\"+ images)\n",
        "    #image = cv2.cvtColor(image,cv2.COLOR_BGR2RGB)\n",
        "    # rotation\n",
        "    \n",
        "    rotate=iaa.Affine(rotate=(10, 30))\n",
        "    rotated_image=rotate.augment_image(image)\n",
        "    cv2.imwrite(NEW_DIR + \"/\" + 'rotated-'+images,rotated_image)\n",
        "\n",
        "      #flip H\n",
        "    flip_hr=iaa.Fliplr(p=1.0)\n",
        "    flip_hr_image= flip_hr.augment_image(image)\n",
        "    cv2.imwrite(NEW_DIR + \"/\" + 'fliph-'+images,flip_hr_image)\n",
        "\n"
      ],
      "execution_count": null,
      "outputs": []
    },
    {
      "cell_type": "code",
      "metadata": {
        "id": "E2hTLSSnEOxU"
      },
      "source": [
        "BASE_DIR = \"preprocessed/2\"\n",
        "NEW_DIR= \"preprocessed/2\"\n",
        "\n",
        "list_dir =  os.listdir(BASE_DIR)\n",
        "from google.colab.patches import cv2_imshow\n",
        "for images in list_dir:\n",
        "    image = cv2.imread(BASE_DIR + \"/\"+ images)\n",
        "    #image = cv2.cvtColor(image,cv2.COLOR_BGR2RGB)\n",
        "        # rotation\n",
        "    \n",
        "    rotate=iaa.Affine(rotate=(0, 30))\n",
        "    rotated_image=rotate.augment_image(image)\n",
        "    cv2.imwrite(NEW_DIR + \"/\" + 'rotated-'+images,rotated_image)\n",
        "\n",
        "    rotate=iaa.Affine(rotate=(-30, 0))\n",
        "    rotated_image=rotate.augment_image(image)\n",
        "    cv2.imwrite(NEW_DIR + \"/\" + 'rotated1-'+images,rotated_image)\n",
        "\n",
        "    #zoom\n",
        "    crop = iaa.Crop(percent=(0.15, 0.3)) # crop image\n",
        "    corp_image=crop.augment_image(image)\n",
        "    cv2.imwrite(NEW_DIR + \"/\" + 'zoomed-'+images,corp_image)\n",
        "\n",
        "    crop = iaa.Crop(percent=(0, 0.15)) # crop image\n",
        "    corp_image=crop.augment_image(image)\n",
        "    cv2.imwrite(NEW_DIR + \"/\" + 'zoomed1-'+images,corp_image)\n",
        "\n",
        "    crop = iaa.Affine(shear=15)\n",
        "    corp_image=crop.augment_image(image)\n",
        "    cv2.imwrite(NEW_DIR + \"/\" + 'affine-'+images,corp_image)\n",
        "\n",
        "    #flip H\n",
        "    flip_hr=iaa.Fliplr(p=1.0)\n",
        "    flip_hr_image= flip_hr.augment_image(image)\n",
        "    cv2.imwrite(NEW_DIR + \"/\" + 'fliph-'+images,flip_hr_image)\n",
        "\n",
        "    #flip V\n",
        "    flip_vr=iaa.Flipud(p=1.0)\n",
        "    flip_vr_image= flip_vr.augment_image(image)\n",
        "    cv2.imwrite(NEW_DIR + \"/\" + 'flipv-'+images,flip_vr_image)"
      ],
      "execution_count": null,
      "outputs": []
    },
    {
      "cell_type": "code",
      "metadata": {
        "id": "4ZNtZxf7X-AA"
      },
      "source": [
        "# to generate data augmentation a partir de aptos 2019 preprocessed\n",
        "import imageio\n",
        "import imgaug as ia\n",
        "import imgaug.augmenters as iaa\n",
        "import numpy as np\n",
        "import pandas as pd\n",
        "import matplotlib.pyplot as plt\n",
        "import matplotlib.patches as patches\n",
        "import matplotlib\n",
        "import os\n",
        "import cv2\n",
        "%matplotlib inline\n",
        "\n",
        "BASE_DIR = \"preprocessed/4\"\n",
        "NEW_DIR= \"preprocessed/4\"\n",
        "\n",
        "list_dir =  os.listdir(BASE_DIR)\n",
        "from google.colab.patches import cv2_imshow\n",
        "for images in list_dir:\n",
        "    image = cv2.imread(BASE_DIR + \"/\"+ images)\n",
        "    #image = cv2.cvtColor(image,cv2.COLOR_BGR2RGB)\n",
        "    # rotation\n",
        "    \n",
        "    rotate=iaa.Affine(rotate=(0, 30))\n",
        "    rotated_image=rotate.augment_image(image)\n",
        "    cv2.imwrite(NEW_DIR + \"/\" + 'rotated-'+images,rotated_image)\n",
        "\n",
        "    rotate=iaa.Affine(rotate=(-30, 0))\n",
        "    rotated_image=rotate.augment_image(image)\n",
        "    cv2.imwrite(NEW_DIR + \"/\" + 'rotated1-'+images,rotated_image)\n",
        "\n",
        "    #zoom\n",
        "    crop = iaa.Crop(percent=(0.15, 0.3)) # crop image\n",
        "    corp_image=crop.augment_image(image)\n",
        "    cv2.imwrite(NEW_DIR + \"/\" + 'zoomed-'+images,corp_image)\n",
        "\n",
        "    crop = iaa.Crop(percent=(0, 0.15)) # crop image\n",
        "    corp_image=crop.augment_image(image)\n",
        "    cv2.imwrite(NEW_DIR + \"/\" + 'zoomed1-'+images,corp_image)\n",
        "\n",
        "    crop = iaa.Affine(shear=15)\n",
        "    corp_image=crop.augment_image(image)\n",
        "    cv2.imwrite(NEW_DIR + \"/\" + 'affine-'+images,corp_image)\n",
        "\n",
        "    #flip H\n",
        "    flip_hr=iaa.Fliplr(p=1.0)\n",
        "    flip_hr_image= flip_hr.augment_image(image)\n",
        "    cv2.imwrite(NEW_DIR + \"/\" + 'fliph-'+images,flip_hr_image)\n",
        "    #flip V\n",
        "    flip_vr=iaa.Flipud(p=1.0)\n",
        "    flip_vr_image= flip_vr.augment_image(image)\n",
        "    cv2.imwrite(NEW_DIR + \"/\" + 'flipv-'+images,flip_vr_image)\n",
        "    "
      ],
      "execution_count": null,
      "outputs": []
    },
    {
      "cell_type": "code",
      "metadata": {
        "colab": {
          "base_uri": "https://localhost:8080/"
        },
        "id": "b87ALj01I8BT",
        "outputId": "20817b57-d335-41ca-be74-cc24ffa7f6ed"
      },
      "source": [
        "#!rm -r DR-dataset2019-Preprocessed/3\n",
        "!ls preprocessed/0 | wc -l\n",
        "!ls preprocessed/1 | wc -l\n",
        "!ls preprocessed/2 | wc -l\n",
        "!ls preprocessed/3 | wc -l\n",
        "!ls preprocessed/4 | wc -l"
      ],
      "execution_count": null,
      "outputs": [
        {
          "output_type": "stream",
          "text": [
            "5415\n",
            "4107\n",
            "3904\n",
            "ls: cannot access 'preprocessed/3': No such file or directory\n",
            "0\n",
            "ls: cannot access 'preprocessed/4': No such file or directory\n",
            "0\n"
          ],
          "name": "stdout"
        }
      ]
    },
    {
      "cell_type": "code",
      "metadata": {
        "colab": {
          "base_uri": "https://localhost:8080/",
          "height": 102
        },
        "id": "4N3xW0XNCw8w",
        "outputId": "7664bf77-fc99-44b8-cc4d-e7bef9967ad3"
      },
      "source": [
        "# we use the ImageDataGenerator fro : loading data into batches, pre-processing operation, data augmentation\n",
        "\n",
        "from tensorflow.keras.preprocessing.image import ImageDataGenerator\n",
        "# the train generator with data augmentation and preprocessing (rescale)\n",
        "# https://xzz201920.medium.com/all-you-need-to-you-about-imagedatagenerator-in-keras-tensorflow-8fd436e4c0cd\n",
        "# https://medium.com/swlh/data-augmentation-using-keras-4a852e49589f\n",
        "# https://towardsdatascience.com/image-data-generators-in-keras-7c5fc6928400\n",
        "# https://keras.io/api/preprocessing/image/\n",
        "# https://www.tensorflow.org/api_docs/python/tf/keras/preprocessing/image/ImageDataGenerator\n",
        "\n",
        "batchSize = 32\n",
        "\n",
        "# ******** for train dataset\n",
        "\n",
        "# with data augmentation \n",
        "# https://machinelearningmastery.com/how-to-configure-image-data-augmentation-when-training-deep-learning-neural-networks/\n",
        "train_datagen = ImageDataGenerator(\n",
        "    #preprocessing_function = preprocessFunction,\n",
        "    rescale=1./255,\n",
        "    validation_split=0.15,) \n",
        "\n",
        "# without data augmentation\n",
        "'''train_datagen = ImageDataGenerator(\n",
        "    rescale=1./255,\n",
        "    validation_split=0.15)'''\n",
        "\n",
        "train_generator = train_datagen.flow_from_directory(\n",
        "    'preprocessed/',\n",
        "    classes = ['0','1','2'],\n",
        "    target_size=(400, 400),\n",
        "    color_mode='rgb',\n",
        "    batch_size=batchSize,\n",
        "    class_mode='categorical',\n",
        "    subset='training',\n",
        "    shuffle=True)\n",
        "\n",
        "# ******* for validation dataset\n",
        "val_generator = train_datagen.flow_from_directory(\n",
        "    'preprocessed/',\n",
        "    classes = ['0','1','2'],\n",
        "    class_mode='categorical',\n",
        "    target_size=(400, 400),\n",
        "    color_mode='rgb',\n",
        "    subset='validation'\n",
        ")\n",
        "\n",
        "# ******** for test dataset\n",
        "'''\n",
        "test_datagen = ImageDataGenerator(rescale=1./255)\n",
        "test_generator = test_datagen.flow_from_directory(\n",
        "    'DR-dataset2019-test/test/',\n",
        "    classes = ['0','1','2','3','4'],\n",
        "    target_size=(400, 400),\n",
        "    class_mode='categorical',\n",
        "    color_mode='rgb',\n",
        "    batch_size = batchSize,\n",
        "    shuffle = False)'''"
      ],
      "execution_count": null,
      "outputs": [
        {
          "output_type": "stream",
          "text": [
            "Found 11413 images belonging to 3 classes.\n",
            "Found 2013 images belonging to 3 classes.\n"
          ],
          "name": "stdout"
        },
        {
          "output_type": "execute_result",
          "data": {
            "application/vnd.google.colaboratory.intrinsic+json": {
              "type": "string"
            },
            "text/plain": [
              "\"\\ntest_datagen = ImageDataGenerator(rescale=1./255)\\ntest_generator = test_datagen.flow_from_directory(\\n    'DR-dataset2019-test/test/',\\n    classes = ['0','1','2','3','4'],\\n    target_size=(400, 400),\\n    class_mode='categorical',\\n    color_mode='rgb',\\n    batch_size = batchSize,\\n    shuffle = False)\""
            ]
          },
          "metadata": {
            "tags": []
          },
          "execution_count": 18
        }
      ]
    },
    {
      "cell_type": "code",
      "metadata": {
        "id": "NY0Gjypm1w8-"
      },
      "source": [
        "from tensorflow.keras.applications.inception_v3 import InceptionV3\n",
        "from tensorflow.python.keras import Model\n",
        "from tensorflow.python.keras.layers import Dense, Flatten\n",
        "from tensorflow.keras import layers\n",
        "\n",
        "pre_trained_model = InceptionV3(input_shape = (400,400,3), # Shape of our images\n",
        "                                include_top = False, # Leave out the last fully connected layer\n",
        "                                weights = 'imagenet')\n",
        "\n",
        "\n",
        "####\n",
        "model = Sequential()\n",
        "model.add(pre_trained_model)\n",
        "model.add(GlobalAveragePooling2D())\n",
        "model.add(Dropout(0.5))\n",
        "model.add(Dense(3, activation='softmax'))\n",
        "\n",
        "model.compile(\n",
        "    loss='categorical_crossentropy',\n",
        "    optimizer=optimizers.Adam(lr=0.00005),\n",
        "    metrics=['accuracy']\n",
        ")\n",
        "print(model.summary())\n",
        "####\n",
        "####\n",
        "\"\"\"\n",
        "x = layers.Flatten(input_shape=pre_trained_model.output.shape)(pre_trained_model.output)\n",
        "x = Dense(1024, activation='sigmoid')(x)\n",
        "predictions = Dense(num_classes, activation='softmax', name='pred')(x)\n",
        "model = Model(inputs=[pre_trained_model.input], outputs=[predictions])\n",
        "\n",
        "# compile the model and specify hyperparameters\n",
        "# https://medium.com/ml-cheat-sheet/winning-at-loss-functions-common-loss-functions-that-you-should-know-a72c1802ecb4\n",
        "# https://neptune.ai/blog/keras-loss-functions\n",
        "lossFunction = 'categorical_crossentropy'\n",
        "optimizeR = 'adam'\n",
        "model.compile(loss = lossFunction, optimizer=optimizeR, metrics=['accuracy'])\n",
        "\"\"\"\n",
        "####\n"
      ],
      "execution_count": null,
      "outputs": []
    },
    {
      "cell_type": "code",
      "metadata": {
        "colab": {
          "base_uri": "https://localhost:8080/"
        },
        "id": "SPWM85RLqBAj",
        "outputId": "72e43858-75b6-410c-c50e-08b8a0472293"
      },
      "source": [
        "def build_vgg16(num_classes, img_size):\n",
        "    from tensorflow.keras.applications import VGG16\n",
        "    from tensorflow.python.keras import Model\n",
        "    from tensorflow.python.keras.layers import Dense, Flatten\n",
        "    vgg16 = VGG16(weights='imagenet', include_top=False, input_shape=img_size)\n",
        "    x = Flatten(input_shape=vgg16.output.shape)(vgg16.output)\n",
        "    x = Dense(1024, activation='sigmoid')(x)\n",
        "    predictions = Dense(num_classes, activation='softmax', name='pred')(x)\n",
        "    model = Model(inputs=[vgg16.input], outputs=[predictions])\n",
        "    for layer in model.layers[:8]:\n",
        "        layer.trainable = False\n",
        "    return model\n",
        "\n",
        "model = build_vgg16(3,(400,400,3))\n",
        "model.compile(\n",
        "    loss='categorical_crossentropy',\n",
        "    optimizer=optimizers.Adam(lr=0.00005),\n",
        "    metrics=['accuracy']\n",
        ")"
      ],
      "execution_count": null,
      "outputs": [
        {
          "output_type": "stream",
          "text": [
            "Downloading data from https://storage.googleapis.com/tensorflow/keras-applications/vgg16/vgg16_weights_tf_dim_ordering_tf_kernels_notop.h5\n",
            "58892288/58889256 [==============================] - 0s 0us/step\n"
          ],
          "name": "stdout"
        }
      ]
    },
    {
      "cell_type": "code",
      "metadata": {
        "colab": {
          "base_uri": "https://localhost:8080/"
        },
        "id": "nFpo3pg5EsGW",
        "outputId": "ceca7f3a-be7a-42fa-abab-6618f69a14de"
      },
      "source": [
        "# start the train\n",
        "import math\n",
        "import tensorflow as tf\n",
        "\n",
        "#from  tensorflow.callbacks import TensorBoard\n",
        "checkpoint = tf.keras.callbacks.ModelCheckpoint(filepath='./', mode='max', monitor='val_accuracy', verbose=2, save_best_only=True)\n",
        "callbacks_list = [checkpoint]\n",
        "\n",
        "batchSize = 32\n",
        "history = model.fit_generator(\n",
        "    train_generator,\n",
        "    steps_per_epoch=math.ceil(train_generator.samples//batchSize),\n",
        "    epochs=20,\n",
        "    validation_data = val_generator,\n",
        "    validation_steps = math.ceil(val_generator.samples//batchSize),callbacks=callbacks_list,\n",
        "    verbose = 1)"
      ],
      "execution_count": null,
      "outputs": [
        {
          "output_type": "stream",
          "text": [
            "/usr/local/lib/python3.7/dist-packages/tensorflow/python/keras/engine/training.py:1844: UserWarning: `Model.fit_generator` is deprecated and will be removed in a future version. Please use `Model.fit`, which supports generators.\n",
            "  warnings.warn('`Model.fit_generator` is deprecated and '\n"
          ],
          "name": "stderr"
        },
        {
          "output_type": "stream",
          "text": [
            "Epoch 1/20\n",
            "356/356 [==============================] - 190s 428ms/step - loss: 0.4941 - accuracy: 0.8050 - val_loss: 0.3305 - val_accuracy: 0.8443\n",
            "\n",
            "Epoch 00001: val_accuracy improved from -inf to 0.84425, saving model to ./\n",
            "INFO:tensorflow:Assets written to: ./assets\n",
            "Epoch 2/20\n",
            "356/356 [==============================] - 146s 409ms/step - loss: 0.2317 - accuracy: 0.9066 - val_loss: 0.2432 - val_accuracy: 0.8886\n",
            "\n",
            "Epoch 00002: val_accuracy improved from 0.84425 to 0.88861, saving model to ./\n",
            "INFO:tensorflow:Assets written to: ./assets\n",
            "Epoch 3/20\n",
            "356/356 [==============================] - 146s 409ms/step - loss: 0.1746 - accuracy: 0.9305 - val_loss: 0.2533 - val_accuracy: 0.8826\n",
            "\n",
            "Epoch 00003: val_accuracy did not improve from 0.88861\n",
            "Epoch 4/20\n",
            "356/356 [==============================] - 145s 408ms/step - loss: 0.1210 - accuracy: 0.9543 - val_loss: 0.2178 - val_accuracy: 0.9118\n",
            "\n",
            "Epoch 00004: val_accuracy improved from 0.88861 to 0.91179, saving model to ./\n",
            "INFO:tensorflow:Assets written to: ./assets\n",
            "Epoch 5/20\n",
            "356/356 [==============================] - 146s 408ms/step - loss: 0.0847 - accuracy: 0.9702 - val_loss: 0.2217 - val_accuracy: 0.9078\n",
            "\n",
            "Epoch 00005: val_accuracy did not improve from 0.91179\n",
            "Epoch 6/20\n",
            "356/356 [==============================] - 145s 408ms/step - loss: 0.0802 - accuracy: 0.9718 - val_loss: 0.2453 - val_accuracy: 0.9068\n",
            "\n",
            "Epoch 00006: val_accuracy did not improve from 0.91179\n",
            "Epoch 7/20\n",
            "356/356 [==============================] - 145s 408ms/step - loss: 0.0454 - accuracy: 0.9847 - val_loss: 0.2410 - val_accuracy: 0.9113\n",
            "\n",
            "Epoch 00007: val_accuracy did not improve from 0.91179\n",
            "Epoch 8/20\n",
            "356/356 [==============================] - 145s 408ms/step - loss: 0.0440 - accuracy: 0.9873 - val_loss: 0.2443 - val_accuracy: 0.9229\n",
            "\n",
            "Epoch 00008: val_accuracy improved from 0.91179 to 0.92288, saving model to ./\n",
            "INFO:tensorflow:Assets written to: ./assets\n",
            "Epoch 9/20\n",
            "356/356 [==============================] - 145s 408ms/step - loss: 0.0313 - accuracy: 0.9901 - val_loss: 0.3716 - val_accuracy: 0.8957\n",
            "\n",
            "Epoch 00009: val_accuracy did not improve from 0.92288\n",
            "Epoch 10/20\n",
            "356/356 [==============================] - 145s 408ms/step - loss: 0.0436 - accuracy: 0.9841 - val_loss: 0.2152 - val_accuracy: 0.9239\n",
            "\n",
            "Epoch 00010: val_accuracy improved from 0.92288 to 0.92389, saving model to ./\n",
            "INFO:tensorflow:Assets written to: ./assets\n",
            "Epoch 11/20\n",
            "356/356 [==============================] - 145s 408ms/step - loss: 0.0227 - accuracy: 0.9926 - val_loss: 0.1915 - val_accuracy: 0.9410\n",
            "\n",
            "Epoch 00011: val_accuracy improved from 0.92389 to 0.94103, saving model to ./\n",
            "INFO:tensorflow:Assets written to: ./assets\n",
            "Epoch 12/20\n",
            "356/356 [==============================] - 145s 408ms/step - loss: 0.0163 - accuracy: 0.9943 - val_loss: 0.2931 - val_accuracy: 0.9244\n",
            "\n",
            "Epoch 00012: val_accuracy did not improve from 0.94103\n",
            "Epoch 13/20\n",
            "356/356 [==============================] - 145s 407ms/step - loss: 0.0234 - accuracy: 0.9921 - val_loss: 0.3117 - val_accuracy: 0.8911\n",
            "\n",
            "Epoch 00013: val_accuracy did not improve from 0.94103\n",
            "Epoch 14/20\n",
            "356/356 [==============================] - 145s 407ms/step - loss: 0.0451 - accuracy: 0.9840 - val_loss: 0.2368 - val_accuracy: 0.9168\n",
            "\n",
            "Epoch 00014: val_accuracy did not improve from 0.94103\n",
            "Epoch 15/20\n",
            "356/356 [==============================] - 145s 408ms/step - loss: 0.0146 - accuracy: 0.9939 - val_loss: 0.2809 - val_accuracy: 0.9194\n",
            "\n",
            "Epoch 00015: val_accuracy did not improve from 0.94103\n",
            "Epoch 16/20\n",
            "356/356 [==============================] - 145s 408ms/step - loss: 0.0126 - accuracy: 0.9947 - val_loss: 0.2380 - val_accuracy: 0.9345\n",
            "\n",
            "Epoch 00016: val_accuracy did not improve from 0.94103\n",
            "Epoch 17/20\n",
            "356/356 [==============================] - 145s 408ms/step - loss: 0.0265 - accuracy: 0.9892 - val_loss: 0.2372 - val_accuracy: 0.9345\n",
            "\n",
            "Epoch 00017: val_accuracy did not improve from 0.94103\n",
            "Epoch 18/20\n",
            "356/356 [==============================] - 145s 408ms/step - loss: 0.0107 - accuracy: 0.9951 - val_loss: 0.3109 - val_accuracy: 0.9153\n",
            "\n",
            "Epoch 00018: val_accuracy did not improve from 0.94103\n",
            "Epoch 19/20\n",
            "356/356 [==============================] - 145s 408ms/step - loss: 0.0174 - accuracy: 0.9927 - val_loss: 0.2872 - val_accuracy: 0.9289\n",
            "\n",
            "Epoch 00019: val_accuracy did not improve from 0.94103\n",
            "Epoch 20/20\n",
            "356/356 [==============================] - 145s 408ms/step - loss: 0.0060 - accuracy: 0.9970 - val_loss: 0.2425 - val_accuracy: 0.9385\n",
            "\n",
            "Epoch 00020: val_accuracy did not improve from 0.94103\n"
          ],
          "name": "stdout"
        }
      ]
    },
    {
      "cell_type": "markdown",
      "metadata": {
        "id": "iIOLqaXCbNGS"
      },
      "source": [
        ""
      ]
    },
    {
      "cell_type": "code",
      "metadata": {
        "id": "dRowd_cb4Wyn"
      },
      "source": [
        "# saving the model\n",
        "model.save(\"DR-InceptionV3Aptos3Class.h5\")"
      ],
      "execution_count": null,
      "outputs": []
    },
    {
      "cell_type": "code",
      "metadata": {
        "id": "EjBZHydW4hkt",
        "colab": {
          "base_uri": "https://localhost:8080/",
          "height": 314
        },
        "outputId": "8b4e658a-f359-4521-b230-fe626ef23320"
      },
      "source": [
        "# display the performance of the model graphically\n",
        "import matplotlib.pyplot as plt\n",
        "%matplotlib inline\n",
        "print(history.history.keys())\n",
        "acc = history.history['accuracy']\n",
        "val_acc = history.history['val_accuracy']\n",
        "loss = history.history['loss']\n",
        "val_loss = history.history['val_loss']\n",
        "\n",
        "epochs = range(len(acc))\n",
        "\n",
        "plt.plot(epochs, acc, 'r', label='Training accuracy')\n",
        "plt.plot(epochs, val_acc, 'b', label='Validation accuracy')\n",
        "#plt.plot(epochs, loss, 'g', label='Training loss')\n",
        "#plt.plot(epochs, val_loss, 'y', label='Validation loss')\n",
        "plt.title('Training and validation')\n",
        "plt.legend(loc=0)\n",
        "plt.figure()\n",
        "\n",
        "plt.show()"
      ],
      "execution_count": null,
      "outputs": [
        {
          "output_type": "stream",
          "text": [
            "dict_keys(['loss', 'accuracy', 'val_loss', 'val_accuracy'])\n"
          ],
          "name": "stdout"
        },
        {
          "output_type": "display_data",
          "data": {
            "image/png": "[encoded data removed]",
            "text/plain": [
              "<Figure size 432x288 with 1 Axes>"
            ]
          },
          "metadata": {
            "tags": [],
            "needs_background": "light"
          }
        },
        {
          "output_type": "display_data",
          "data": {
            "text/plain": [
              "<Figure size 432x288 with 0 Axes>"
            ]
          },
          "metadata": {
            "tags": []
          }
        }
      ]
    },
    {
      "cell_type": "code",
      "metadata": {
        "colab": {
          "base_uri": "https://localhost:8080/"
        },
        "id": "98WqjORlIeMX",
        "outputId": "cab82626-6e16-4b70-e928-305a4c9e083a"
      },
      "source": [
        "score = model.evaluate(val_generator)\n",
        "print(score)"
      ],
      "execution_count": null,
      "outputs": [
        {
          "output_type": "stream",
          "text": [
            "63/63 [==============================] - 19s 297ms/step - loss: 0.2441 - accuracy: 0.9379\n",
            "[0.24411308765411377, 0.937903642654419]\n"
          ],
          "name": "stdout"
        }
      ]
    },
    {
      "cell_type": "code",
      "metadata": {
        "colab": {
          "base_uri": "https://localhost:8080/"
        },
        "id": "AMNzsbJsIzNF",
        "outputId": "6cfe4d5c-3900-40c4-99d1-06571f889977"
      },
      "source": [
        "import numpy as np\n",
        "probabilities = model.predict_generator(val_generator)\n",
        "y_true = val_generator.classes\n",
        "y_pred = np.argmax(probabilities, axis=1)"
      ],
      "execution_count": null,
      "outputs": [
        {
          "output_type": "stream",
          "text": [
            "/usr/local/lib/python3.7/dist-packages/tensorflow/python/keras/engine/training.py:1905: UserWarning: `Model.predict_generator` is deprecated and will be removed in a future version. Please use `Model.predict`, which supports generators.\n",
            "  warnings.warn('`Model.predict_generator` is deprecated and '\n"
          ],
          "name": "stderr"
        }
      ]
    },
    {
      "cell_type": "code",
      "metadata": {
        "colab": {
          "base_uri": "https://localhost:8080/"
        },
        "id": "ULRblMJTIR6s",
        "outputId": "89561cd2-3a32-4729-cc48-7adb7a50e7a7"
      },
      "source": [
        "print(y_pred,y_true)"
      ],
      "execution_count": null,
      "outputs": [
        {
          "output_type": "stream",
          "text": [
            "[2 4 0 ... 2 0 2] [0 0 0 ... 4 4 4]\n"
          ],
          "name": "stdout"
        }
      ]
    },
    {
      "cell_type": "code",
      "metadata": {
        "colab": {
          "base_uri": "https://localhost:8080/"
        },
        "id": "43Rx0vr6JL7S",
        "outputId": "b788f924-c555-41e6-fc66-e92de9275e3d"
      },
      "source": [
        "\n",
        "import matplotlib.pyplot as plt\n",
        "from sklearn.metrics import confusion_matrix,classification_report\n",
        "font = {\n",
        "'family': 'Times New Roman',\n",
        "'size': 12\n",
        "}\n",
        "plt.rc('font', **font)\n",
        "mat = confusion_matrix(y_true, y_pred)\n",
        "print(mat)\n",
        "class_labels = list(val_generator.class_indices.keys())\n",
        "report = classification_report(y_true, y_pred, target_names=class_labels)\n",
        "print(report)"
      ],
      "execution_count": null,
      "outputs": [
        {
          "output_type": "stream",
          "text": [
            "[[338 235 239]\n",
            " [252 201 163]\n",
            " [230 196 159]]\n",
            "              precision    recall  f1-score   support\n",
            "\n",
            "           0       0.41      0.42      0.41       812\n",
            "           1       0.32      0.33      0.32       616\n",
            "           2       0.28      0.27      0.28       585\n",
            "\n",
            "    accuracy                           0.35      2013\n",
            "   macro avg       0.34      0.34      0.34      2013\n",
            "weighted avg       0.35      0.35      0.35      2013\n",
            "\n"
          ],
          "name": "stdout"
        }
      ]
    },
    {
      "cell_type": "code",
      "metadata": {
        "id": "sEy0jpFeG4e2"
      },
      "source": [
        "nb_row = 4\n",
        "nb_col = 6\n",
        "nb = 1\n",
        "plt.figure(figsize=(25, 15))\n",
        "for row in df.itertuples():\n",
        "    if nb > nb_col * nb_row:\n",
        "        break\n",
        "    plt.subplot(nb_row, nb_col, nb)\n",
        "    plt.imshow(cv2.cvtColor(imagePreprocessing(openImage(row), normalize=False), cv2.COLOR_BGR2RGB))\n",
        "    plt.title('Diagnosed {}'.format(row.diagnosis))\n",
        "    nb += 1\n",
        "plt.show()"
      ],
      "execution_count": null,
      "outputs": []
    },
    {
      "cell_type": "code",
      "metadata": {
        "id": "mjbr26RzHCLU"
      },
      "source": [
        "!zip !zip -r preprocessed{.zip,}"
      ],
      "execution_count": null,
      "outputs": []
    }
  ]
}