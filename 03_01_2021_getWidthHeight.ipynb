{
  "nbformat": 4,
  "nbformat_minor": 0,
  "metadata": {
    "colab": {
      "name": "03-01-2021-getWidthHeight.ipynb",
      "provenance": [],
      "collapsed_sections": [],
      "authorship_tag": "ABX9TyOnd5ov75hZET27nSIw8lJl",
      "include_colab_link": true
    },
    "kernelspec": {
      "name": "python3",
      "display_name": "Python 3"
    }
  },
  "cells": [
    {
      "cell_type": "markdown",
      "metadata": {
        "id": "view-in-github",
        "colab_type": "text"
      },
      "source": [
        "<a href=\"https://colab.research.google.com/github/mohamedtal/PFE2021/blob/main/03_01_2021_getWidthHeight.ipynb\" target=\"_parent\"><img src=\"https://colab.research.google.com/assets/colab-badge.svg\" alt=\"Open In Colab\"/></a>"
      ]
    },
    {
      "cell_type": "code",
      "metadata": {
        "colab": {
          "base_uri": "https://localhost:8080/"
        },
        "id": "eRHtTIlqC2mz",
        "outputId": "5dc0a2eb-4441-49dc-be6f-800bb8e35aa3"
      },
      "source": [
        "# at first we need to get the dataset from the drive\r\n",
        "from google.colab import drive\r\n",
        "drive.mount('/content/drive')"
      ],
      "execution_count": null,
      "outputs": [
        {
          "output_type": "stream",
          "text": [
            "Mounted at /content/drive\n"
          ],
          "name": "stdout"
        }
      ]
    },
    {
      "cell_type": "code",
      "metadata": {
        "id": "qmySNtigqQmp"
      },
      "source": [
        "#unzip the dataset\r\n",
        "!unzip /content/drive/MyDrive/dataset/DR-dataset2015.zip"
      ],
      "execution_count": null,
      "outputs": []
    },
    {
      "cell_type": "code",
      "metadata": {
        "id": "KegPg85_G6sg"
      },
      "source": [
        "from PIL import Image\r\n",
        "import numpy as np\r\n",
        "import os\r\n",
        "import csv\r\n",
        "import pandas as pd\r\n",
        "import matplotlib.pyplot as plt"
      ],
      "execution_count": null,
      "outputs": []
    },
    {
      "cell_type": "code",
      "metadata": {
        "id": "NAI5h7VVIahs"
      },
      "source": [
        "def cropDisk(imagePath):\r\n",
        "    image = np.array(Image.open(image_path))\r\n",
        "    # bordures et corners\r\n",
        "    row, col = image.shape[0], image.shape[1]\r\n",
        "    center_row, center_col = row // 2, col // 2\r\n",
        "    x_left, x_right, y_top, y_bot = 0, col, 0, row\r\n",
        "    while image[center_row, x_left:x_left + 10].mean().max() <= 10 and x_left < col:\r\n",
        "        x_left += 1\r\n",
        "    while image[center_row, x_right - 10:x_right].mean().max() <= 10 and x_right > 0:\r\n",
        "        x_right -= 1\r\n",
        "    while image[y_top:y_top + 10, center_col].mean().max() <= 10 and y_top < row:\r\n",
        "        y_top += 1\r\n",
        "    while image[y_bot - 10:y_bot, center_col].mean().max() <= 10 and y_bot > 0:\r\n",
        "        y_bot -= 1\r\n",
        "    if y_top < y_bot and x_left < x_right and y_bot - y_top > 0.6 * row and x_right - x_left > 0.6 * col:\r\n",
        "        image = image[y_top:y_bot, x_left:x_right]\r\n",
        "    return [image.shape[0],image.shape[1]]\r\n",
        "\r\n",
        "\r\n",
        "\r\n",
        "def create_dataset(pathFolder):\r\n",
        "    # create the csv file\r\n",
        "    with open(\"widthHeight.csv\", \"w\") as outfile:\r\n",
        "        myWriter = csv.writer(outfile, delimiter=',')\r\n",
        "        myWriter.writerow([\"width\", \"height\"])\r\n",
        "        for directory in os.listdir(pathFolder):\r\n",
        "            for file in os.listdir(os.path.join(pathFolder, directory)):\r\n",
        "                image_path= os.path.join(pathFolder, directory,  file)\r\n",
        "                heightWidth = cropDisk(image_path)\r\n",
        "                myWriter.writerow([heightWidth[1], heightWidth[0]])"
      ],
      "execution_count": null,
      "outputs": []
    },
    {
      "cell_type": "code",
      "metadata": {
        "id": "JHJYtj4KWk4c"
      },
      "source": [
        "create_dataset(\"DR-dataset/train\")"
      ],
      "execution_count": null,
      "outputs": []
    },
    {
      "cell_type": "code",
      "metadata": {
        "colab": {
          "base_uri": "https://localhost:8080/",
          "height": 516
        },
        "id": "fdy-eSZvZIZN",
        "outputId": "47941b0e-2347-454e-8139-8c948f8c0ef1"
      },
      "source": [
        "# now we do somme statistics\r\n",
        "# read the columns\r\n",
        "col_list = [\"width\", \"height\"]\r\n",
        "df = pd.read_csv(\"widthHeight.csv\", usecols=col_list)\r\n",
        "widthData = df[\"width\"]\r\n",
        "heightData = df[\"height\"]\r\n",
        "\r\n",
        "plt.hist(widthData, bins = widthData.max()-widthData.min())\r\n",
        "plt.show()\r\n",
        "\r\n",
        "plt.hist(heightData, bins = heightData.max()-heightData.min())\r\n",
        "plt.show()"
      ],
      "execution_count": null,
      "outputs": [
        {
          "output_type": "display_data",
          "data": {
            "image/png": "[encoded data removed]",
            "text/plain": [
              "<Figure size 432x288 with 1 Axes>"
            ]
          },
          "metadata": {
            "tags": [],
            "needs_background": "light"
          }
        },
        {
          "output_type": "display_data",
          "data": {
            "image/png": "[encoded data removed]",
            "text/plain": [
              "<Figure size 432x288 with 1 Axes>"
            ]
          },
          "metadata": {
            "tags": [],
            "needs_background": "light"
          }
        }
      ]
    },
    {
      "cell_type": "code",
      "metadata": {
        "colab": {
          "base_uri": "https://localhost:8080/"
        },
        "id": "yP5w2J5PicED",
        "outputId": "c51b610c-4f61-4b1e-98c5-0eab39ea5bb6"
      },
      "source": [
        "print(widthData.max())"
      ],
      "execution_count": null,
      "outputs": [
        {
          "output_type": "stream",
          "text": [
            "2612\n"
          ],
          "name": "stdout"
        }
      ]
    }
  ]
}