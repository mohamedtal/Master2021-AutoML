{
  "nbformat": 4,
  "nbformat_minor": 0,
  "metadata": {
    "anaconda-cloud": {},
    "kernelspec": {
      "display_name": "Python [default]",
      "language": "python",
      "name": "python3"
    },
    "language_info": {
      "codemirror_mode": {
        "name": "ipython",
        "version": 3
      },
      "file_extension": ".py",
      "mimetype": "text/x-python",
      "name": "python",
      "nbconvert_exporter": "python",
      "pygments_lexer": "ipython3",
      "version": "3.5.2"
    },
    "colab": {
      "name": "24-04-2021-HPO_test.ipynb",
      "provenance": [],
      "collapsed_sections": [],
      "include_colab_link": true
    },
    "accelerator": "GPU"
  },
  "cells": [
    {
      "cell_type": "markdown",
      "metadata": {
        "id": "view-in-github",
        "colab_type": "text"
      },
      "source": [
        "<a href=\"https://colab.research.google.com/github/mohamedtal/Master2021-AutoML/blob/main/24_04_2021_HPO_test.ipynb\" target=\"_parent\"><img src=\"https://colab.research.google.com/assets/colab-badge.svg\" alt=\"Open In Colab\"/></a>"
      ]
    },
    {
      "cell_type": "markdown",
      "metadata": {
        "id": "znIWhwYbEQ4Y"
      },
      "source": [
        "# Hyperparameter Optimization (HPO)"
      ]
    },
    {
      "cell_type": "code",
      "metadata": {
        "id": "xTFivuFLEQ4j"
      },
      "source": [
        "import numpy as np\n",
        "import pandas as pd\n",
        "import seaborn as sns\n",
        "import matplotlib.pyplot as plt\n",
        "from sklearn.model_selection import train_test_split,cross_val_score\n",
        "from sklearn.ensemble import RandomForestClassifier,RandomForestRegressor\n",
        "from sklearn.metrics import classification_report,confusion_matrix,accuracy_score\n",
        "from sklearn.neighbors import KNeighborsClassifier,KNeighborsRegressor\n",
        "from sklearn.svm import SVC,SVR\n",
        "from sklearn import datasets\n",
        "import scipy.stats as stats"
      ],
      "execution_count": 4,
      "outputs": []
    },
    {
      "cell_type": "markdown",
      "metadata": {
        "id": "lTahExmgEQ4k"
      },
      "source": [
        "## Load MNIST dataset"
      ]
    },
    {
      "cell_type": "code",
      "metadata": {
        "id": "FHA_oUNREQ4l"
      },
      "source": [
        "d = datasets.load_digits()\n",
        "X = d.data\n",
        "y = d.target"
      ],
      "execution_count": 8,
      "outputs": []
    },
    {
      "cell_type": "code",
      "metadata": {
        "id": "ibDqjdPfHe01"
      },
      "source": [
        "#ANN\n",
        "from keras.models import Sequential, Model\n",
        "from keras.layers import Dense, Input\n",
        "from sklearn.model_selection import GridSearchCV\n",
        "from keras.wrappers.scikit_learn import KerasClassifier\n",
        "from keras.callbacks import EarlyStopping\n",
        "def ANN(optimizer = 'sgd',neurons=32,batch_size=32,epochs=20,activation='relu',patience=3,loss='categorical_crossentropy'):\n",
        "    model = Sequential()\n",
        "    model.add(Dense(neurons, input_shape=(X.shape[1],), activation=activation))\n",
        "    model.add(Dense(neurons, activation=activation))\n",
        "    model.add(Dense(10,activation='softmax'))  \n",
        "    model.compile(optimizer = optimizer, loss=loss)\n",
        "    early_stopping = EarlyStopping(monitor=\"loss\", patience = patience)# early stop patience\n",
        "    history = model.fit(X, pd.get_dummies(y).values,\n",
        "              batch_size=batch_size,\n",
        "              epochs=epochs,\n",
        "              callbacks = [early_stopping],\n",
        "              verbose=0) \n",
        "    return model"
      ],
      "execution_count": 5,
      "outputs": []
    },
    {
      "cell_type": "markdown",
      "metadata": {
        "id": "nvHKmW3QEQ4o"
      },
      "source": [
        "## HPO Algorithm 1: Grid Search\n"
      ]
    },
    {
      "cell_type": "code",
      "metadata": {
        "colab": {
          "base_uri": "https://localhost:8080/"
        },
        "id": "JpRRWJUxEQ4p",
        "outputId": "41edc0a1-bf6d-42ac-ee14-4640255888f6"
      },
      "source": [
        "import time\n",
        "#SVM\n",
        "from sklearn.model_selection import GridSearchCV\n",
        "rf_params = {\n",
        "    'C': [1,10, 100],\n",
        "    \"kernel\":['linear','poly','rbf','sigmoid']\n",
        "}\n",
        "clf = SVC(gamma='scale')\n",
        "grid = GridSearchCV(clf, rf_params, scoring='accuracy')\n",
        "start = time.time()\n",
        "grid.fit(X, y)\n",
        "end = time.time()\n",
        "print(grid.best_params_)\n",
        "print(\"Accuracy:\"+ str(grid.best_score_))\n",
        "print(\"time:\",end-start)\n",
        "\n"
      ],
      "execution_count": 18,
      "outputs": [
        {
          "output_type": "stream",
          "text": [
            "{'C': 10, 'kernel': 'rbf'}\n",
            "Accuracy:0.9738502011761063\n",
            "time: 5.006103277206421\n"
          ],
          "name": "stdout"
        }
      ]
    },
    {
      "cell_type": "code",
      "metadata": {
        "colab": {
          "base_uri": "https://localhost:8080/"
        },
        "id": "cZpduHEqEQ4q",
        "outputId": "a1816fb8-4804-4aca-b690-bc5bcdc82436"
      },
      "source": [
        "#KNN\n",
        "from sklearn.model_selection import GridSearchCV\n",
        "rf_params = {\n",
        "    'n_neighbors': [2, 3, 5,10,15,20],\n",
        "}\n",
        "clf = KNeighborsClassifier()\n",
        "grid = GridSearchCV(clf, rf_params,  scoring='accuracy')\n",
        "start = time.time()\n",
        "grid.fit(X, y)\n",
        "end = time.time()\n",
        "print(grid.best_params_)\n",
        "print(\"Accuracy:\"+ str(grid.best_score_))\n",
        "print(\"time:\",end-start)"
      ],
      "execution_count": 19,
      "outputs": [
        {
          "output_type": "stream",
          "text": [
            "{'n_neighbors': 2}\n",
            "Accuracy:0.9671711544413494\n",
            "time: 2.2014286518096924\n"
          ],
          "name": "stdout"
        }
      ]
    },
    {
      "cell_type": "code",
      "metadata": {
        "colab": {
          "base_uri": "https://localhost:8080/"
        },
        "id": "VjWSxWGyEQ4q",
        "outputId": "52c67a30-75ea-469a-fb0a-2b83e707802e"
      },
      "source": [
        "#ANN\n",
        "from sklearn.model_selection import GridSearchCV\n",
        "rf_params = {\n",
        "    'optimizer': ['adam','rmsprop','sgd'],\n",
        "    'activation': ['relu','tanh'],\n",
        "    'batch_size': [16,32],\n",
        "    'neurons':[16,32],\n",
        "    'epochs':[20,50],\n",
        "    'patience':[2,5]\n",
        "}\n",
        "clf = KerasClassifier(build_fn=ANN, verbose=0)\n",
        "grid = GridSearchCV(clf, rf_params,scoring='accuracy')\n",
        "start = time.time()\n",
        "grid.fit(X, y)\n",
        "end = time.time()\n",
        "print(grid.best_params_)\n",
        "print(\"MSE:\"+ str(grid.best_score_))\n",
        "print(\"time:\",end-start)"
      ],
      "execution_count": 20,
      "outputs": [
        {
          "output_type": "stream",
          "text": [
            "/usr/local/lib/python3.7/dist-packages/tensorflow/python/keras/engine/sequential.py:450: UserWarning: `model.predict_classes()` is deprecated and will be removed after 2021-01-01. Please use instead:* `np.argmax(model.predict(x), axis=-1)`,   if your model does multi-class classification   (e.g. if it uses a `softmax` last-layer activation).* `(model.predict(x) > 0.5).astype(\"int32\")`,   if your model does binary classification   (e.g. if it uses a `sigmoid` last-layer activation).\n",
            "  warnings.warn('`model.predict_classes()` is deprecated and '\n"
          ],
          "name": "stderr"
        },
        {
          "output_type": "stream",
          "text": [
            "{'activation': 'relu', 'batch_size': 16, 'epochs': 50, 'neurons': 32, 'optimizer': 'adam', 'patience': 5}\n",
            "MSE:1.0\n",
            "time: 4316.611445426941\n"
          ],
          "name": "stdout"
        }
      ]
    },
    {
      "cell_type": "markdown",
      "metadata": {
        "id": "NQc5txxCEQ4q"
      },
      "source": [
        "## HPO Algorithm 2: Random Search\n"
      ]
    },
    {
      "cell_type": "code",
      "metadata": {
        "colab": {
          "base_uri": "https://localhost:8080/"
        },
        "id": "9pRQwHVWEQ4r",
        "outputId": "006e3cea-1cb9-4842-be94-b2db2081d3f0"
      },
      "source": [
        "#SVM\n",
        "from scipy.stats import randint as sp_randint\n",
        "from sklearn.model_selection import RandomizedSearchCV\n",
        "rf_params = {\n",
        "    'C': stats.uniform(0,50),\n",
        "    \"kernel\":['linear','poly','rbf','sigmoid']\n",
        "}\n",
        "n_iter_search=20\n",
        "clf = SVC(gamma='scale')\n",
        "Random = RandomizedSearchCV(clf, param_distributions=rf_params,n_iter=n_iter_search,scoring='accuracy')\n",
        "start = time.time()\n",
        "Random.fit(X, y)\n",
        "end = time.time()\n",
        "print(Random.best_params_)\n",
        "print(\"Accuracy:\"+ str(Random.best_score_))\n",
        "print(\"time:\",end-start)"
      ],
      "execution_count": 21,
      "outputs": [
        {
          "output_type": "stream",
          "text": [
            "{'C': 26.790207061258187, 'kernel': 'rbf'}\n",
            "Accuracy:0.9738502011761063\n",
            "time: 8.280427932739258\n"
          ],
          "name": "stdout"
        }
      ]
    },
    {
      "cell_type": "code",
      "metadata": {
        "colab": {
          "base_uri": "https://localhost:8080/"
        },
        "id": "ZE9WZuq9EQ4r",
        "outputId": "b79a58e2-2223-4aa8-fc27-e4ba4ca77dbe"
      },
      "source": [
        "#KNN\n",
        "from scipy.stats import randint as sp_randint\n",
        "from sklearn.model_selection import RandomizedSearchCV\n",
        "rf_params = {\n",
        "    'n_neighbors': range(1,20),\n",
        "}\n",
        "n_iter_search=10\n",
        "clf = KNeighborsClassifier()\n",
        "Random = RandomizedSearchCV(clf, param_distributions=rf_params,n_iter=n_iter_search,scoring='accuracy')\n",
        "start = time.time()\n",
        "Random.fit(X, y)\n",
        "end = time.time()\n",
        "print(Random.best_params_)\n",
        "print(\"Accuracy:\"+ str(Random.best_score_))\n",
        "print(\"time:\",end-start)"
      ],
      "execution_count": 22,
      "outputs": [
        {
          "output_type": "stream",
          "text": [
            "{'n_neighbors': 1}\n",
            "Accuracy:0.9643933766635715\n",
            "time: 3.682990789413452\n"
          ],
          "name": "stdout"
        }
      ]
    },
    {
      "cell_type": "code",
      "metadata": {
        "colab": {
          "base_uri": "https://localhost:8080/"
        },
        "id": "12uwDY_IEQ4s",
        "outputId": "9295fadf-5174-4352-efb6-e4120ab564a8"
      },
      "source": [
        "#ANN\n",
        "from scipy.stats import randint as sp_randint\n",
        "from random import randrange as sp_randrange\n",
        "from sklearn.model_selection import RandomizedSearchCV\n",
        "rf_params = {\n",
        "    'optimizer': ['adam','rmsprop','sgd'],\n",
        "    'activation': ['relu','tanh'],\n",
        "    'batch_size': [16,32,64],\n",
        "    'neurons':sp_randint(10,100),\n",
        "    'epochs':[20,50],\n",
        "    'patience':sp_randint(3,20)\n",
        "}\n",
        "n_iter_search=10\n",
        "clf = KerasClassifier(build_fn=ANN, verbose=0)\n",
        "Random = RandomizedSearchCV(clf, param_distributions=rf_params,n_iter=n_iter_search,scoring='accuracy')\n",
        "start = time.time()\n",
        "Random.fit(X, y)\n",
        "end = time.time()\n",
        "print(Random.best_params_)\n",
        "print(\"Accuracy:\"+ str(Random.best_score_))\n",
        "print(\"time:\",end-start)"
      ],
      "execution_count": 23,
      "outputs": [
        {
          "output_type": "stream",
          "text": [
            "/usr/local/lib/python3.7/dist-packages/tensorflow/python/keras/engine/sequential.py:450: UserWarning: `model.predict_classes()` is deprecated and will be removed after 2021-01-01. Please use instead:* `np.argmax(model.predict(x), axis=-1)`,   if your model does multi-class classification   (e.g. if it uses a `softmax` last-layer activation).* `(model.predict(x) > 0.5).astype(\"int32\")`,   if your model does binary classification   (e.g. if it uses a `sigmoid` last-layer activation).\n",
            "  warnings.warn('`model.predict_classes()` is deprecated and '\n"
          ],
          "name": "stderr"
        },
        {
          "output_type": "stream",
          "text": [
            "{'activation': 'tanh', 'batch_size': 16, 'epochs': 50, 'neurons': 85, 'optimizer': 'adam', 'patience': 10}\n",
            "Accuracy:1.0\n",
            "time: 485.5570909976959\n"
          ],
          "name": "stdout"
        }
      ]
    },
    {
      "cell_type": "markdown",
      "metadata": {
        "id": "VQS2qp_WEQ4u"
      },
      "source": [
        "## HPO Algorithm 4: BO-GP"
      ]
    },
    {
      "cell_type": "markdown",
      "metadata": {
        "id": "v__CCjnzEQ4u"
      },
      "source": [
        "### Using skopt.BayesSearchCV"
      ]
    },
    {
      "cell_type": "code",
      "metadata": {
        "colab": {
          "base_uri": "https://localhost:8080/"
        },
        "id": "rZtFIGuc7EwE",
        "outputId": "1cb1cda5-c1dd-4805-ac9b-f248d399dfb8"
      },
      "source": [
        "!pip install scikit-optimize"
      ],
      "execution_count": 2,
      "outputs": [
        {
          "output_type": "stream",
          "text": [
            "Collecting scikit-optimize\n",
            "\u001b[?25l  Downloading https://files.pythonhosted.org/packages/8b/03/be33e89f55866065a02e515c5b319304a801a9f1027a9b311a9b1d1f8dc7/scikit_optimize-0.8.1-py2.py3-none-any.whl (101kB)\n",
            "\r\u001b[K     |███▎                            | 10kB 17.2MB/s eta 0:00:01\r\u001b[K     |██████▌                         | 20kB 24.2MB/s eta 0:00:01\r\u001b[K     |█████████▊                      | 30kB 27.8MB/s eta 0:00:01\r\u001b[K     |█████████████                   | 40kB 21.0MB/s eta 0:00:01\r\u001b[K     |████████████████▏               | 51kB 17.1MB/s eta 0:00:01\r\u001b[K     |███████████████████▍            | 61kB 13.7MB/s eta 0:00:01\r\u001b[K     |██████████████████████▊         | 71kB 15.2MB/s eta 0:00:01\r\u001b[K     |██████████████████████████      | 81kB 14.3MB/s eta 0:00:01\r\u001b[K     |█████████████████████████████▏  | 92kB 13.7MB/s eta 0:00:01\r\u001b[K     |████████████████████████████████| 102kB 6.8MB/s \n",
            "\u001b[?25hRequirement already satisfied: joblib>=0.11 in /usr/local/lib/python3.7/dist-packages (from scikit-optimize) (1.0.1)\n",
            "Requirement already satisfied: numpy>=1.13.3 in /usr/local/lib/python3.7/dist-packages (from scikit-optimize) (1.19.5)\n",
            "Requirement already satisfied: scikit-learn>=0.20.0 in /usr/local/lib/python3.7/dist-packages (from scikit-optimize) (0.22.2.post1)\n",
            "Collecting pyaml>=16.9\n",
            "  Downloading https://files.pythonhosted.org/packages/15/c4/1310a054d33abc318426a956e7d6df0df76a6ddfa9c66f6310274fb75d42/pyaml-20.4.0-py2.py3-none-any.whl\n",
            "Requirement already satisfied: scipy>=0.19.1 in /usr/local/lib/python3.7/dist-packages (from scikit-optimize) (1.4.1)\n",
            "Requirement already satisfied: PyYAML in /usr/local/lib/python3.7/dist-packages (from pyaml>=16.9->scikit-optimize) (3.13)\n",
            "Installing collected packages: pyaml, scikit-optimize\n",
            "Successfully installed pyaml-20.4.0 scikit-optimize-0.8.1\n"
          ],
          "name": "stdout"
        }
      ]
    },
    {
      "cell_type": "code",
      "metadata": {
        "colab": {
          "base_uri": "https://localhost:8080/"
        },
        "id": "joUZmFkHEQ4v",
        "outputId": "9c51a03c-b691-4564-df87-7173bbbf07d0"
      },
      "source": [
        "#SVM\n",
        "import time\n",
        "from skopt import Optimizer\n",
        "from skopt import BayesSearchCV \n",
        "from skopt.space import Real, Categorical, Integer\n",
        "rf_params = {\n",
        "    'C': Real(0.01,50),\n",
        "    \"kernel\":['linear','poly','rbf','sigmoid']\n",
        "}\n",
        "clf = SVC(gamma='scale')\n",
        "Bayes = BayesSearchCV(clf, rf_params,n_iter=20, n_jobs=-1,scoring='accuracy')\n",
        "start = time.time()\n",
        "Bayes.fit(X, y)\n",
        "end = time.time()\n",
        "print(Bayes.best_params_)\n",
        "bclf = Bayes.best_estimator_\n",
        "print(\"Accuracy:\"+ str(Bayes.best_score_))\n",
        "print(\"time:\",end-start)"
      ],
      "execution_count": 9,
      "outputs": [
        {
          "output_type": "stream",
          "text": [
            "OrderedDict([('C', 7.061357850299573), ('kernel', 'rbf')])\n",
            "Accuracy:0.9744017807456873\n",
            "time: 25.11559557914734\n"
          ],
          "name": "stdout"
        }
      ]
    },
    {
      "cell_type": "code",
      "metadata": {
        "colab": {
          "base_uri": "https://localhost:8080/"
        },
        "id": "XX-hirQjEQ4v",
        "outputId": "376beb5d-a22e-4637-a52f-ff8c8c136693"
      },
      "source": [
        "#KNN\n",
        "from skopt import Optimizer\n",
        "from skopt import BayesSearchCV \n",
        "from skopt.space import Real, Categorical, Integer\n",
        "rf_params = {\n",
        "    'n_neighbors': Integer(1,20),\n",
        "}\n",
        "clf = KNeighborsClassifier()\n",
        "Bayes = BayesSearchCV(clf, rf_params,n_iter=10, n_jobs=-1,scoring='accuracy')\n",
        "start = time.time()\n",
        "Bayes.fit(X, y)\n",
        "end = time.time()\n",
        "print(Bayes.best_params_)\n",
        "bclf = Bayes.best_estimator_\n",
        "print(\"Accuracy:\"+ str(Bayes.best_score_))\n",
        "print(\"time:\",end-start)"
      ],
      "execution_count": 10,
      "outputs": [
        {
          "output_type": "stream",
          "text": [
            "OrderedDict([('n_neighbors', 3)])\n",
            "Accuracy:0.9660545353366722\n",
            "time: 3.6921935081481934\n"
          ],
          "name": "stdout"
        }
      ]
    },
    {
      "cell_type": "code",
      "metadata": {
        "colab": {
          "base_uri": "https://localhost:8080/"
        },
        "id": "ZR0n545sEQ4v",
        "outputId": "17b54c10-26a9-4fdd-b3ec-9e9ac198ab2b"
      },
      "source": [
        "#ANN\n",
        "from skopt import Optimizer\n",
        "from skopt import BayesSearchCV \n",
        "from skopt.space import Real, Categorical, Integer\n",
        "rf_params = {\n",
        "    'optimizer': ['adam','rmsprop','sgd'],\n",
        "    'activation': ['relu','tanh'],\n",
        "    'batch_size': [16,32,64],\n",
        "    'neurons':Integer(10,100),\n",
        "    'epochs':[20,50],\n",
        "    #'epochs':[20,50,100,200],\n",
        "    'patience':Integer(3,20)\n",
        "}\n",
        "clf = KerasClassifier(build_fn=ANN, verbose=0)\n",
        "Bayes = BayesSearchCV(clf, rf_params,n_iter=10, scoring='accuracy')\n",
        "start = time.time()\n",
        "Bayes.fit(X, y)\n",
        "end = time.time()\n",
        "print(Bayes.best_params_)\n",
        "print(\"Accuracy:\"+ str(Bayes.best_score_))\n",
        "print(\"time:\",end-start)"
      ],
      "execution_count": 11,
      "outputs": [
        {
          "output_type": "stream",
          "text": [
            "/usr/local/lib/python3.7/dist-packages/tensorflow/python/keras/engine/sequential.py:450: UserWarning: `model.predict_classes()` is deprecated and will be removed after 2021-01-01. Please use instead:* `np.argmax(model.predict(x), axis=-1)`,   if your model does multi-class classification   (e.g. if it uses a `softmax` last-layer activation).* `(model.predict(x) > 0.5).astype(\"int32\")`,   if your model does binary classification   (e.g. if it uses a `sigmoid` last-layer activation).\n",
            "  warnings.warn('`model.predict_classes()` is deprecated and '\n",
            "/usr/local/lib/python3.7/dist-packages/tensorflow/python/keras/engine/sequential.py:450: UserWarning: `model.predict_classes()` is deprecated and will be removed after 2021-01-01. Please use instead:* `np.argmax(model.predict(x), axis=-1)`,   if your model does multi-class classification   (e.g. if it uses a `softmax` last-layer activation).* `(model.predict(x) > 0.5).astype(\"int32\")`,   if your model does binary classification   (e.g. if it uses a `sigmoid` last-layer activation).\n",
            "  warnings.warn('`model.predict_classes()` is deprecated and '\n"
          ],
          "name": "stderr"
        },
        {
          "output_type": "stream",
          "text": [
            "OrderedDict([('activation', 'relu'), ('batch_size', 16), ('epochs', 33), ('neurons', 66), ('optimizer', 'adam'), ('patience', 5)])\n",
            "Accuracy:1.0\n",
            "time: 421.5909068584442\n"
          ],
          "name": "stdout"
        }
      ]
    },
    {
      "cell_type": "markdown",
      "metadata": {
        "id": "7rMcfBSwEQ4x"
      },
      "source": [
        "## HPO Algorithm 5: BO-TPE"
      ]
    },
    {
      "cell_type": "code",
      "metadata": {
        "scrolled": true,
        "colab": {
          "base_uri": "https://localhost:8080/"
        },
        "id": "ALNLc_kiEQ4y",
        "outputId": "115b0391-c638-452a-aff8-6323a21c7205"
      },
      "source": [
        "#SVM\n",
        "from hyperopt import hp, fmin, tpe, STATUS_OK, Trials\n",
        "from sklearn.model_selection import cross_val_score, StratifiedKFold\n",
        "def objective(params):\n",
        "    params = {\n",
        "        'C': abs(float(params['C'])), \n",
        "        \"kernel\":str(params['kernel'])\n",
        "    }\n",
        "    clf = SVC(gamma='scale', **params)\n",
        "    score = cross_val_score(clf, X, y, scoring='accuracy').mean()\n",
        "\n",
        "    return {'loss':-score, 'status': STATUS_OK }\n",
        "\n",
        "space = {\n",
        "    'C': hp.normal('C', 0, 50),\n",
        "    \"kernel\":hp.choice('kernel',['linear','poly','rbf','sigmoid'])\n",
        "}\n",
        "\n",
        "start = time.time()\n",
        "best = fmin(fn=objective,\n",
        "            space=space,\n",
        "            algo=tpe.suggest,\n",
        "            max_evals=20)\n",
        "end = time.time()\n",
        "print(\"SVM: Hyperopt estimated optimum {}\".format(best))\n",
        "print(\"time:\",end-start)"
      ],
      "execution_count": 12,
      "outputs": [
        {
          "output_type": "stream",
          "text": [
            "100%|██████████| 20/20 [00:07<00:00,  2.69it/s, best loss: -0.9738502011761063]\n",
            "SVM: Hyperopt estimated optimum {'C': -15.722002742139265, 'kernel': 2}\n",
            "time: 7.447922945022583\n"
          ],
          "name": "stdout"
        }
      ]
    },
    {
      "cell_type": "code",
      "metadata": {
        "scrolled": true,
        "colab": {
          "base_uri": "https://localhost:8080/"
        },
        "id": "uE0bJTMEEQ4y",
        "outputId": "a11de4bb-2674-4b88-addd-308a3922cafc"
      },
      "source": [
        "#KNN\n",
        "from hyperopt import hp, fmin, tpe, STATUS_OK, Trials\n",
        "from sklearn.model_selection import cross_val_score, StratifiedKFold\n",
        "def objective(params):\n",
        "    params = {\n",
        "        'n_neighbors': abs(int(params['n_neighbors']))\n",
        "    }\n",
        "    clf = KNeighborsClassifier( **params)\n",
        "    score = cross_val_score(clf, X, y, scoring='accuracy').mean()\n",
        "\n",
        "    return {'loss':-score, 'status': STATUS_OK }\n",
        "\n",
        "space = {\n",
        "    'n_neighbors': hp.quniform('n_neighbors', 1, 20, 1),\n",
        "}\n",
        "start = time.time()\n",
        "best = fmin(fn=objective,\n",
        "            space=space,\n",
        "            algo=tpe.suggest,\n",
        "            max_evals=10)\n",
        "end = time.time()\n",
        "print(\"KNN: Hyperopt estimated optimum {}\".format(best))\n",
        "print(\"time:\",end-start)"
      ],
      "execution_count": 13,
      "outputs": [
        {
          "output_type": "stream",
          "text": [
            "100%|██████████| 10/10 [00:03<00:00,  2.52it/s, best loss: -0.9638409161250386]\n",
            "KNN: Hyperopt estimated optimum {'n_neighbors': 4.0}\n",
            "time: 3.9800121784210205\n"
          ],
          "name": "stdout"
        }
      ]
    },
    {
      "cell_type": "code",
      "metadata": {
        "colab": {
          "base_uri": "https://localhost:8080/"
        },
        "id": "OyIjaT9vEQ4z",
        "outputId": "ddfc9cab-76d2-401c-a443-481428b500f9"
      },
      "source": [
        "#ANN\n",
        "from hyperopt import hp, fmin, tpe, STATUS_OK, Trials\n",
        "from sklearn.model_selection import cross_val_score, StratifiedKFold\n",
        "def objective(params):\n",
        "    params = {\n",
        "        \"optimizer\":str(params['optimizer']),\n",
        "        \"activation\":str(params['activation']),\n",
        "        'batch_size': abs(int(params['batch_size'])),\n",
        "        'neurons': abs(int(params['neurons'])),\n",
        "        'epochs': abs(int(params['epochs'])),\n",
        "        'patience': abs(int(params['patience']))\n",
        "    }\n",
        "    clf = KerasClassifier(build_fn=ANN,**params, verbose=0)\n",
        "    score = -np.mean(cross_val_score(clf, X, y, \n",
        "                                    scoring=\"accuracy\"))\n",
        "\n",
        "    return {'loss':score, 'status': STATUS_OK }\n",
        "\n",
        "space = {\n",
        "    \"optimizer\":hp.choice('optimizer',['adam','rmsprop','sgd']),\n",
        "    \"activation\":hp.choice('activation',['relu','tanh']),\n",
        "    'batch_size': hp.quniform('batch_size', 16, 64, 16),\n",
        "    'neurons': hp.quniform('neurons', 10, 100, 10),\n",
        "    'epochs': hp.quniform('epochs', 20, 50, 10),\n",
        "    'patience': hp.quniform('patience', 3, 20, 3),\n",
        "}\n",
        "\n",
        "start = time.time()\n",
        "best = fmin(fn=objective,\n",
        "            space=space,\n",
        "            algo=tpe.suggest,\n",
        "            max_evals=10)\n",
        "end = time.time()\n",
        "print(\"ANN: Hyperopt estimated optimum {}\".format(best))\n",
        "print(\"time:\",end-start)"
      ],
      "execution_count": 14,
      "outputs": [
        {
          "output_type": "stream",
          "text": [
            "\r  0%|          | 0/10 [00:00<?, ?it/s, best loss: ?]"
          ],
          "name": "stdout"
        },
        {
          "output_type": "stream",
          "text": [
            "/usr/local/lib/python3.7/dist-packages/tensorflow/python/keras/engine/sequential.py:450: UserWarning: `model.predict_classes()` is deprecated and will be removed after 2021-01-01. Please use instead:* `np.argmax(model.predict(x), axis=-1)`,   if your model does multi-class classification   (e.g. if it uses a `softmax` last-layer activation).* `(model.predict(x) > 0.5).astype(\"int32\")`,   if your model does binary classification   (e.g. if it uses a `sigmoid` last-layer activation).\n",
            "  warnings.warn('`model.predict_classes()` is deprecated and '\n",
            "\n"
          ],
          "name": "stderr"
        },
        {
          "output_type": "stream",
          "text": [
            "100%|██████████| 10/10 [05:43<00:00, 34.36s/it, best loss: -1.0]\n",
            "ANN: Hyperopt estimated optimum {'activation': 1, 'batch_size': 16.0, 'epochs': 30.0, 'neurons': 90.0, 'optimizer': 1, 'patience': 6.0}\n",
            "time: 343.57102394104004\n"
          ],
          "name": "stdout"
        }
      ]
    }
  ]
}